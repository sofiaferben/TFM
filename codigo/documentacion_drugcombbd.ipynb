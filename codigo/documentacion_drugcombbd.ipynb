{
 "cells": [
  {
   "cell_type": "markdown",
   "id": "5115e73e-ac4f-4f37-a389-6827a34e7931",
   "metadata": {},
   "source": [
    "# Documentation drugcomb bd\n",
    "\n",
    "http://drugcombdb.denglab.org/api"
   ]
  },
  {
   "cell_type": "markdown",
   "id": "9f8184ba-2018-4969-8fc1-cda31c1d86f4",
   "metadata": {},
   "source": [
    "## API configuration"
   ]
  },
  {
   "cell_type": "code",
   "execution_count": null,
   "id": "ab6df2ce-eb52-4203-8b9d-4ab95fc19c39",
   "metadata": {},
   "outputs": [],
   "source": [
    "const devUrl = 'http://localhost:8888/';\n",
    "const productUrl = 'http://drugcombdb.denglab.org:8888/';\n",
    "const baseUrl = process.env.NODE_ENV === 'development' ? devUrl : productUrl;\n",
    "\n",
    "export const ApiConfig = {\n",
    "    baseURL: baseUrl,\n",
    "    isCompleteResponse: false,\n",
    "    timeout: 10000\n",
    "}"
   ]
  },
  {
   "cell_type": "markdown",
   "id": "de7d86f9-b50f-4d6f-b0b5-d390527b21a2",
   "metadata": {},
   "source": [
    "## EXAMPLE"
   ]
  },
  {
   "cell_type": "markdown",
   "id": "5b3032aa-0fb0-40ab-8609-49d000fa1355",
   "metadata": {},
   "source": [
    "1. Get paginated drug combinations\n"
   ]
  },
  {
   "cell_type": "code",
   "execution_count": null,
   "id": "15e859f7-1c19-4505-baeb-008a0713e7d2",
   "metadata": {},
   "outputs": [],
   "source": [
    "export const getDrugCombPagination = (page, size) => {\n",
    "    return axios.get(`/combination/list`, {\n",
    "        params: {\n",
    "            page,\n",
    "            size\n",
    "        },\n",
    "        retry: 1,\n",
    "        retryDelay: 1000\n",
    "    })\n",
    "}\n"
   ]
  },
  {
   "cell_type": "markdown",
   "id": "4a4d1960-53e9-442d-b29f-3253dbe1e86d",
   "metadata": {},
   "source": [
    "2. Get drug integration pages"
   ]
  },
  {
   "cell_type": "code",
   "execution_count": null,
   "id": "39fdbc05-9c7a-4b77-b5fd-da7c0dc06a70",
   "metadata": {},
   "outputs": [],
   "source": [
    "export const getDrugIntegrationPages = (page, size, checkedNames, checkedTissue) => {\n",
    "    return axios.get(`/integration/list`, {\n",
    "        params: {\n",
    "            page,\n",
    "            size,\n",
    "            checkedNames,\n",
    "            checkedTissue\n",
    "        }\n",
    "    })\n",
    "}"
   ]
  },
  {
   "cell_type": "markdown",
   "id": "bbe37cf8-174e-41e8-bf35-96ab190b198b",
   "metadata": {},
   "source": [
    "3. Get an individual drug combination by Block ID"
   ]
  },
  {
   "cell_type": "code",
   "execution_count": null,
   "id": "599c90b1-5e7f-4a08-9d01-2118e814b068",
   "metadata": {},
   "outputs": [],
   "source": [
    "export const getIndividualDrugCombinationByBlockId = (blockId) => {\n",
    "    return axios.get(`/combination/list/${blockId}`)\n",
    "}"
   ]
  },
  {
   "cell_type": "markdown",
   "id": "264982f8-2efe-46c7-a325-a1ce03bd16cc",
   "metadata": {},
   "source": [
    "4. Get an individual drug integration by Block ID"
   ]
  },
  {
   "cell_type": "code",
   "execution_count": null,
   "id": "ce4b76ed-2d6f-4ac4-bcb7-bbed0b9887fa",
   "metadata": {},
   "outputs": [],
   "source": [
    "export const getIndividualDrugIntegrationByBlockId = (blockId) => {\n",
    "    return axios.get(`/integration/list/${blockId}`)\n",
    "}"
   ]
  },
  {
   "cell_type": "markdown",
   "id": "f924eb89-7b80-40e7-8a4b-305f4ad67367",
   "metadata": {},
   "source": [
    "5. Get drug information by drug names"
   ]
  },
  {
   "cell_type": "code",
   "execution_count": null,
   "id": "09e0383d-a9e7-4856-af25-5de35072798e",
   "metadata": {},
   "outputs": [],
   "source": [
    "export const getDrugInfoByDrugNames = (name1, name2) => {\n",
    "    return axios.get(`/chemical/combinfo`, {\n",
    "        timeout: 30000,\n",
    "        params: {\n",
    "            name1,\n",
    "            name2\n",
    "        }\n",
    "    })\n",
    "}"
   ]
  },
  {
   "cell_type": "markdown",
   "id": "9e9b61d5-dab3-4082-a1e2-3d7b4fdab19d",
   "metadata": {},
   "source": [
    "6. Get drug information by a single drug name"
   ]
  },
  {
   "cell_type": "code",
   "execution_count": null,
   "id": "554457cb-82bb-4abd-8e8f-956c590748cb",
   "metadata": {},
   "outputs": [],
   "source": [
    "export const getDrugInfoByDrugName = (name) => {\n",
    "    return axios.get(`/chemical/info/${name}`)\n",
    "}"
   ]
  },
  {
   "cell_type": "markdown",
   "id": "f2b15cc9-c7c5-49a0-bfde-21fc89e36e87",
   "metadata": {},
   "source": [
    "7. Get drug-protein links"
   ]
  },
  {
   "cell_type": "code",
   "execution_count": null,
   "id": "47081b46-78b9-433c-a442-6e0a31facb16",
   "metadata": {},
   "outputs": [],
   "source": [
    "export const getCombDrugProteinLinksPages = (cid1, cid2, page, size) => {\n",
    "    return axios.get(`/proteins/page`, {\n",
    "        timeout: 30000,\n",
    "        params: {\n",
    "            cid1,\n",
    "            cid2,\n",
    "            page,\n",
    "            size\n",
    "        }\n",
    "    })\n",
    "}"
   ]
  },
  {
   "cell_type": "markdown",
   "id": "96a11f0c-179b-4767-88a5-52fcbabe51e8",
   "metadata": {},
   "source": [
    "8. Get cell line information by Block ID"
   ]
  },
  {
   "cell_type": "code",
   "execution_count": null,
   "id": "f1e84768-df83-4b48-9e1e-fbca2bd1287c",
   "metadata": {},
   "outputs": [],
   "source": [
    "export const getCellLineInfoByBlockId = (blockId) => {\n",
    "    return new Promise((resolve, reject) => {\n",
    "        getIndividualDrugIntegrationByBlockId(blockId).then(data => {\n",
    "            resolve(axios.get(`/cellLine/cellName?q=${encodeURIComponent(data.cellName)}`))\n",
    "        })\n",
    "    })\n",
    "}"
   ]
  },
  {
   "cell_type": "markdown",
   "id": "e78fefd4-b17f-46d2-b6dc-a550c566a89c",
   "metadata": {},
   "source": [
    "9. Get recommended drug integrations"
   ]
  },
  {
   "cell_type": "code",
   "execution_count": null,
   "id": "7a0908cd-0d2d-4b6f-a336-2812a521ec9a",
   "metadata": {},
   "outputs": [],
   "source": [
    "export const getRecommendDrugIntegrationList = () => {\n",
    "    return axios.get(`/integration/recommends`)\n",
    "}"
   ]
  },
  {
   "cell_type": "markdown",
   "id": "33ae2b57-aaf8-453d-a730-fbaa61973fc4",
   "metadata": {},
   "source": [
    "10. Get drug description by name"
   ]
  },
  {
   "cell_type": "code",
   "execution_count": null,
   "id": "85acdc1e-f15a-4140-917f-14b5b5c82453",
   "metadata": {},
   "outputs": [],
   "source": [
    "export const getDrugDescriptionByDrugName = (drugName) => {\n",
    "    return axios.get(`/combination/description`, {\n",
    "        timeout: 30000,\n",
    "        params: {\n",
    "            drugName\n",
    "        }\n",
    "    })\n",
    "}"
   ]
  },
  {
   "cell_type": "markdown",
   "id": "3b21e66c-7517-4466-b289-a53ab29d1a08",
   "metadata": {},
   "source": [
    "11. Get fitted information by Block ID"
   ]
  },
  {
   "cell_type": "code",
   "execution_count": null,
   "id": "86e4c66f-007d-450a-9404-9c9be4b3d928",
   "metadata": {},
   "outputs": [],
   "source": [
    "export const getFittedInfoByBlockId = (page, size, blockId) => {\n",
    "    return axios.get(`/cellline/FittedInfo`, {\n",
    "        params: {\n",
    "            page,\n",
    "            size,\n",
    "            blockId\n",
    "        }\n",
    "    })\n",
    "}"
   ]
  },
  {
   "cell_type": "markdown",
   "id": "7740ebfb-5f97-423d-a761-47cad47b6c69",
   "metadata": {},
   "source": [
    "12. Search drug combinations by name"
   ]
  },
  {
   "cell_type": "code",
   "execution_count": null,
   "id": "1d97a6a0-6775-438e-b3e9-7c3b3fcbe3a0",
   "metadata": {},
   "outputs": [],
   "source": [
    "export const searchDrugCombinationByCombinationName = (combination, page, size, checkedNames, checkedTissue) => {\n",
    "    return axios.get(`/integration/search`, {\n",
    "        params: {\n",
    "            combination,\n",
    "            page,\n",
    "            size,\n",
    "            checkedNames,\n",
    "            checkedTissue\n",
    "        }\n",
    "    })\n",
    "}"
   ]
  },
  {
   "cell_type": "markdown",
   "id": "648f2f8b-5947-476c-9131-eb54c049307d",
   "metadata": {},
   "source": [
    "13. Search drug pages by drug name"
   ]
  },
  {
   "cell_type": "code",
   "execution_count": null,
   "id": "69ca3d2b-929c-4608-9c5a-307ce5849848",
   "metadata": {},
   "outputs": [],
   "source": [
    "export const searchDrugPages = (drugName, page, size, checkedNames, checkedTissue) => {\n",
    "    return axios.get(`/integration/search/${encodeURIComponent(drugName)}?page=${page}&size=${size}&checkedNames=${checkedNames}&checkedTissue=${checkedTissue}`)\n",
    "}"
   ]
  },
  {
   "cell_type": "markdown",
   "id": "d132a721-02da-468a-9a78-179ed072c477",
   "metadata": {},
   "source": [
    "14. Get protein links information by Drug ID"
   ]
  },
  {
   "cell_type": "code",
   "execution_count": null,
   "id": "f46a23a8-9a3d-4f5e-aebd-7d9fb7c413d8",
   "metadata": {},
   "outputs": [],
   "source": [
    "export const getDrugProteinLinksInformation = (drugId) => {\n",
    "    return axios.get(`/proteins/${drugId}`, {\n",
    "        timeout: 30000\n",
    "    })\n",
    "}"
   ]
  },
  {
   "cell_type": "markdown",
   "id": "10b5081b-fe8a-43f9-b461-90828e24bb3e",
   "metadata": {},
   "source": [
    "15. Download files by index"
   ]
  },
  {
   "cell_type": "code",
   "execution_count": null,
   "id": "e53d49d7-0fdd-49c4-bcf3-16a72d2f684d",
   "metadata": {},
   "outputs": [],
   "source": [
    "export const downloadFileByIndex = (index) => {\n",
    "    return axios.post(`/download/${index}`, {}, {\n",
    "        timeout: 60000,\n",
    "        isCompleteResponse: true,\n",
    "        responseType: 'blob'\n",
    "    })\n",
    "}"
   ]
  }
 ],
 "metadata": {
  "kernelspec": {
   "display_name": "Python 3 (ipykernel)",
   "language": "python",
   "name": "python3"
  },
  "language_info": {
   "codemirror_mode": {
    "name": "ipython",
    "version": 3
   },
   "file_extension": ".py",
   "mimetype": "text/x-python",
   "name": "python",
   "nbconvert_exporter": "python",
   "pygments_lexer": "ipython3",
   "version": "3.9.21"
  }
 },
 "nbformat": 4,
 "nbformat_minor": 5
}
